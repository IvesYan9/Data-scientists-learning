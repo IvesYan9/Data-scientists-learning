{
  "cells": [
    {
      "cell_type": "markdown",
      "metadata": {
        "id": "view-in-github",
        "colab_type": "text"
      },
      "source": [
        "<a href=\"https://colab.research.google.com/github/IvesYan9/Data-scientists-learning/blob/ch2/ch2%E4%B8%8D%E7%9F%A5%E9%81%93%E7%9A%84%E9%83%A8%E5%88%86.ipynb\" target=\"_parent\"><img src=\"https://colab.research.google.com/assets/colab-badge.svg\" alt=\"Open In Colab\"/></a>"
      ]
    },
    {
      "cell_type": "code",
      "execution_count": null,
      "id": "cf104d3c",
      "metadata": {
        "id": "cf104d3c",
        "outputId": "4702d6a6-5e1e-47a8-8543-a6bc82a192b6"
      },
      "outputs": [
        {
          "data": {
            "text/plain": [
              "'%.3f'"
            ]
          },
          "execution_count": 3,
          "metadata": {},
          "output_type": "execute_result"
        }
      ],
      "source": [
        "import numpy as np\n",
        "import numpy.random as random\n",
        "import scipy as sp\n",
        "import pandas as pd\n",
        "from pandas import Series, DataFrame\n",
        "\n",
        "# 視覺化函式庫\n",
        "import matplotlib.pyplot as plt\n",
        "import matplotlib as mpl\n",
        "import seaborn as sns\n",
        "%matplotlib inline\n",
        "\n",
        "# 顯示到小數第3位\n",
        "%precision 3"
      ]
    },
    {
      "cell_type": "code",
      "execution_count": null,
      "id": "500ce88f",
      "metadata": {
        "id": "500ce88f",
        "outputId": "09b4a669-b5c5-42d5-c06c-31f4572e1592"
      },
      "outputs": [
        {
          "name": "stdout",
          "output_type": "stream",
          "text": [
            "[ 7  5  7  9  9  2  1  8  3 10]\n"
          ]
        }
      ],
      "source": [
        "#設定初始值確定產生的隨機亂數序列固定\n",
        "random.seed(1)\n",
        "\n",
        "data = np.array([9, 2, 3, 4, 10, 7, 8, 1, 5])\n",
        "\n",
        "print(random.choice(data, 10))"
      ]
    },
    {
      "cell_type": "code",
      "execution_count": null,
      "id": "b29c92a0",
      "metadata": {
        "id": "b29c92a0",
        "outputId": "4dd37fb9-dc7a-4661-d390-f879d24f708a"
      },
      "outputs": [
        {
          "data": {
            "text/plain": [
              "1275"
            ]
          },
          "execution_count": 17,
          "metadata": {},
          "output_type": "execute_result"
        }
      ],
      "source": [
        "#practice\n",
        "data = np.arange(51)\n",
        "#產生50個數的陣列\n",
        "\n",
        "datar = data.sum()\n",
        "datar"
      ]
    },
    {
      "cell_type": "code",
      "execution_count": null,
      "id": "752b409c",
      "metadata": {
        "id": "752b409c",
        "outputId": "a3720ee7-8ba1-4520-bfb3-8fda16f74e02"
      },
      "outputs": [
        {
          "data": {
            "text/plain": [
              "(2.241, -0.977, 7.380)"
            ]
          },
          "execution_count": 50,
          "metadata": {},
          "output_type": "execute_result"
        }
      ],
      "source": [
        "#practice\n",
        "random.seed(0)\n",
        "\n",
        "data = np.random.randn(10)\n",
        "#產生10個數的隨機陣列\n",
        "\n",
        "data.max(),data.min(),data.sum()\n"
      ]
    },
    {
      "cell_type": "code",
      "execution_count": null,
      "id": "b89e1b8f",
      "metadata": {
        "id": "b89e1b8f",
        "outputId": "56e3e412-06ed-41a7-cc6b-4722b2f64256"
      },
      "outputs": [
        {
          "data": {
            "text/plain": [
              "array([[45, 45, 45, 45, 45],\n",
              "       [45, 45, 45, 45, 45],\n",
              "       [45, 45, 45, 45, 45],\n",
              "       [45, 45, 45, 45, 45],\n",
              "       [45, 45, 45, 45, 45]], dtype=int64)"
            ]
          },
          "execution_count": 56,
          "metadata": {},
          "output_type": "execute_result"
        }
      ],
      "source": [
        "#practice\n",
        "\n",
        "data = np.ones((5, 5), dtype = np.int64)\n",
        "\n",
        "data = data * 3\n",
        "\n",
        "data2 = data.dot(data)\n",
        "\n",
        "data2"
      ]
    },
    {
      "cell_type": "code",
      "execution_count": null,
      "id": "7fbb5cbb",
      "metadata": {
        "id": "7fbb5cbb",
        "outputId": "042c729b-a76f-4684-bc39-a507bc12434a"
      },
      "outputs": [
        {
          "data": {
            "text/plain": [
              "array([[45, 45, 45, 45, 45],\n",
              "       [45, 45, 45, 45, 45],\n",
              "       [45, 45, 45, 45, 45],\n",
              "       [45, 45, 45, 45, 45],\n",
              "       [45, 45, 45, 45, 45]])"
            ]
          },
          "execution_count": 53,
          "metadata": {},
          "output_type": "execute_result"
        }
      ],
      "source": [
        "#ans\n",
        "data = np.ones((5, 5), dtype = 'i') * 3\n",
        "\n",
        "data\n",
        "\n",
        "data.dot(data)"
      ]
    },
    {
      "cell_type": "code",
      "execution_count": null,
      "id": "a5e693d9",
      "metadata": {
        "id": "a5e693d9"
      },
      "outputs": [],
      "source": []
    }
  ],
  "metadata": {
    "kernelspec": {
      "display_name": "Python 3 (ipykernel)",
      "language": "python",
      "name": "python3"
    },
    "language_info": {
      "codemirror_mode": {
        "name": "ipython",
        "version": 3
      },
      "file_extension": ".py",
      "mimetype": "text/x-python",
      "name": "python",
      "nbconvert_exporter": "python",
      "pygments_lexer": "ipython3",
      "version": "3.11.4"
    },
    "colab": {
      "provenance": [],
      "include_colab_link": true
    }
  },
  "nbformat": 4,
  "nbformat_minor": 5
}