{
  "cells": [
    {
      "cell_type": "markdown",
      "metadata": {
        "id": "view-in-github",
        "colab_type": "text"
      },
      "source": [
        "<a href=\"https://colab.research.google.com/github/IvesYan9/Data-scientists-learning/blob/ch1/ch1%E4%B8%8D%E7%9F%A5%E9%81%93%E7%9A%84%E9%83%A8%E5%88%86.ipynb\" target=\"_parent\"><img src=\"https://colab.research.google.com/assets/colab-badge.svg\" alt=\"Open In Colab\"/></a>"
      ]
    },
    {
      "cell_type": "code",
      "execution_count": null,
      "id": "79f02863",
      "metadata": {
        "id": "79f02863",
        "outputId": "78ba6741-d10a-4da7-aa72-e1d51c4db869"
      },
      "outputs": [
        {
          "data": {
            "text/plain": [
              "[1, 2, 3, 4, 5, 6, 7, 8, 9, 10, 11, 1, 2, 3, 4, 5, 6, 7, 8, 9, 10, 11]"
            ]
          },
          "execution_count": 1,
          "metadata": {},
          "output_type": "execute_result"
        }
      ],
      "source": [
        "data = [1, 2, 3, 4, 5, 6, 7, 8, 9, 10]\n",
        "data.append(11)\n",
        "data = data * 2\n",
        "data\n"
      ]
    },
    {
      "cell_type": "code",
      "execution_count": null,
      "id": "e63d7c5b",
      "metadata": {
        "id": "e63d7c5b",
        "outputId": "80839f42-af36-4aa9-9fd4-222188c19dbf"
      },
      "outputs": [
        {
          "name": "stdout",
          "output_type": "stream",
          "text": [
            "計算結果 2 + 3 = 5\n"
          ]
        }
      ],
      "source": [
        "#format 用法\n",
        "print('計算結果 {0} + {1} = {2}'.format(2, 3, 5))"
      ]
    },
    {
      "cell_type": "code",
      "execution_count": null,
      "id": "f3a24504",
      "metadata": {
        "id": "f3a24504",
        "outputId": "e5e62e71-4c32-45bd-fa5a-5849434fd625"
      },
      "outputs": [
        {
          "name": "stdout",
          "output_type": "stream",
          "text": [
            "55\n"
          ]
        }
      ],
      "source": [
        "#費氏數列\n",
        "def cac (n):\n",
        "    #print(n)\n",
        "    if n == 1 or n == 2:\n",
        "        return 1\n",
        "    else:\n",
        "        return cac(n-1) + cac(n-2)\n",
        "print(cac(10))"
      ]
    },
    {
      "cell_type": "code",
      "execution_count": null,
      "id": "8d94f5f7",
      "metadata": {
        "id": "8d94f5f7",
        "outputId": "a7238085-1501-4f1a-f0fe-09aa08672b5e"
      },
      "outputs": [
        {
          "name": "stdout",
          "output_type": "stream",
          "text": [
            "d\n",
            "a\n",
            "t\n",
            "a\n",
            " \n",
            "s\n",
            "c\n",
            "i\n",
            "e\n",
            "n\n",
            "c\n",
            "e\n"
          ]
        }
      ],
      "source": [
        "#practice\n",
        "word = 'data science'\n",
        "for i in word:\n",
        "    print(i)"
      ]
    },
    {
      "cell_type": "code",
      "execution_count": null,
      "id": "ab20d5e4",
      "metadata": {
        "id": "ab20d5e4",
        "outputId": "3752c44f-2da7-4377-ae98-b3c21bc97382"
      },
      "outputs": [
        {
          "name": "stdout",
          "output_type": "stream",
          "text": [
            "1275\n"
          ]
        }
      ],
      "source": [
        "#practice\n",
        "s = 0\n",
        "for i in range(1, 51):\n",
        "    s = s + i\n",
        "print(s)"
      ]
    },
    {
      "cell_type": "code",
      "execution_count": null,
      "id": "26bb49d9",
      "metadata": {
        "id": "26bb49d9",
        "outputId": "6746a9ea-50df-4293-a5b5-55a0a53ff2ba"
      },
      "outputs": [
        {
          "name": "stdout",
          "output_type": "stream",
          "text": [
            "22\n",
            "15\n",
            "121\n",
            "-5\n",
            "80\n",
            "data 22:y之值10\n",
            "None\n"
          ]
        }
      ],
      "source": [
        "#類別\n",
        "class myclass:\n",
        "    #初始化 設定的xy\n",
        "    def __init__(self, x, y):\n",
        "        self.x = x\n",
        "        self.y = y\n",
        "\n",
        "    #\n",
        "    def cac_add1(self, a, b):\n",
        "        return a + b\n",
        "\n",
        "    #此函數直接使用上面的初始化參數\n",
        "    def cac_add2(self):\n",
        "        return self.x + self.y\n",
        "\n",
        "    def cac_multi(self, a, b):\n",
        "        return a * b\n",
        "\n",
        "    #此函數直接使用上面的初始化參數\n",
        "    def cac_substract(self):\n",
        "        return self.x - self.y\n",
        "\n",
        "    def cac_substract2(self, a, b):\n",
        "        return a - b\n",
        "\n",
        "    def cac_print(self, a):\n",
        "        print('data {0}:y之值{1}'.format(a , self.y))\n",
        "\n",
        "instance3 = myclass(5, 10)\n",
        "\n",
        "print(instance3.cac_add1(11, 11))\n",
        "\n",
        "print(instance3.cac_add2())\n",
        "\n",
        "print(instance3.cac_multi(11, 11))\n",
        "\n",
        "print(instance3.cac_substract())\n",
        "\n",
        "print(instance3.cac_substract2(100, 20))\n",
        "\n",
        "print(instance3.cac_print(22))\n"
      ]
    },
    {
      "cell_type": "code",
      "execution_count": null,
      "id": "48a670d4",
      "metadata": {
        "scrolled": true,
        "id": "48a670d4",
        "outputId": "366b51d8-93ed-41ad-8d4e-989134400073"
      },
      "outputs": [
        {
          "name": "stdout",
          "output_type": "stream",
          "text": [
            "2\n",
            "3\n",
            "5\n",
            "7\n"
          ]
        }
      ],
      "source": [
        "#practice\n",
        "def is_prime(n):\n",
        "    if n <= 1:\n",
        "        return False\n",
        "    for i in range(2, int(n ** 0.5) + 1):\n",
        "        if n % i == 0:\n",
        "            return False\n",
        "    return True\n",
        "\n",
        "\n",
        "for i in range(1, 11):\n",
        "    if is_prime(i):\n",
        "        print(i)\n"
      ]
    },
    {
      "cell_type": "code",
      "execution_count": null,
      "id": "36a3d96e",
      "metadata": {
        "id": "36a3d96e",
        "outputId": "18e55390-4a88-44ca-afd3-df9f0ea16eb3"
      },
      "outputs": [
        {
          "name": "stdout",
          "output_type": "stream",
          "text": [
            "2\n",
            "3\n",
            "5\n",
            "7\n"
          ]
        }
      ],
      "source": [
        "nl = range(2, 11)\n",
        "\n",
        "for i in range(2, int(10 ** 0.5 )+ 1):#判斷2,3\n",
        "    #print (i)\n",
        "    nl = [x for x in nl if(x == i or x % i != 0) ] # = i (2,3) 又或是除不盡餘數不等於0\n",
        "for j in nl:\n",
        "    print(j)"
      ]
    },
    {
      "cell_type": "code",
      "execution_count": null,
      "id": "85baea81",
      "metadata": {
        "id": "85baea81"
      },
      "outputs": [],
      "source": []
    }
  ],
  "metadata": {
    "kernelspec": {
      "display_name": "Python 3 (ipykernel)",
      "language": "python",
      "name": "python3"
    },
    "language_info": {
      "codemirror_mode": {
        "name": "ipython",
        "version": 3
      },
      "file_extension": ".py",
      "mimetype": "text/x-python",
      "name": "python",
      "nbconvert_exporter": "python",
      "pygments_lexer": "ipython3",
      "version": "3.11.4"
    },
    "colab": {
      "provenance": [],
      "include_colab_link": true
    }
  },
  "nbformat": 4,
  "nbformat_minor": 5
}